{
 "cells": [
  {
   "cell_type": "markdown",
   "id": "a62224fb",
   "metadata": {},
   "source": [
    "### Digit to Image\n",
    "_What if we give a neural network a single digit as input for it to generate its image?_"
   ]
  },
  {
   "cell_type": "code",
   "execution_count": 18,
   "id": "a3709f92",
   "metadata": {},
   "outputs": [],
   "source": [
    "import torch\n",
    "import torchvision\n",
    "from torchvision.transforms import ToTensor\n",
    "from torch.utils.data import DataLoader\n",
    "import torch.nn as nn\n",
    "import torch.optim as optim\n",
    "import matplotlib.pyplot as plt"
   ]
  },
  {
   "cell_type": "code",
   "execution_count": 19,
   "id": "883408ef",
   "metadata": {},
   "outputs": [],
   "source": [
    "device = torch.device('cuda')"
   ]
  },
  {
   "cell_type": "code",
   "execution_count": 20,
   "id": "e2cb75b3",
   "metadata": {},
   "outputs": [],
   "source": [
    "data = torchvision.datasets.MNIST(\n",
    "    root = \"mnist/\",\n",
    "    train = True,\n",
    "    download = True,\n",
    "    transform = ToTensor(),\n",
    "    target_transform = None\n",
    ")"
   ]
  },
  {
   "cell_type": "code",
   "execution_count": 21,
   "id": "59fea7dc",
   "metadata": {},
   "outputs": [
    {
     "name": "stdout",
     "output_type": "stream",
     "text": [
      "Dimention of a single image: torch.Size([1, 28, 28])\n",
      "Sample label: 5\n"
     ]
    }
   ],
   "source": [
    "image, label = data[0]\n",
    "print(\"Dimention of a single image:\", image.shape)\n",
    "print(\"Sample label:\", label)"
   ]
  },
  {
   "cell_type": "code",
   "execution_count": 22,
   "id": "77cb25b8",
   "metadata": {},
   "outputs": [],
   "source": [
    "zero_to_nine = dict()\n",
    "n = 0\n",
    "for image, target in data:\n",
    "    if n == 10:\n",
    "        break\n",
    "    if target == n:\n",
    "        zero_to_nine[n] = image \n",
    "        n += 1"
   ]
  },
  {
   "cell_type": "code",
   "execution_count": 25,
   "id": "774c4640",
   "metadata": {},
   "outputs": [
    {
     "data": {
      "image/png": "[encoded data removed]",
      "text/plain": [
       "<Figure size 800x400 with 11 Axes>"
      ]
     },
     "metadata": {},
     "output_type": "display_data"
    }
   ],
   "source": [
    "plt.figure(figsize = (8,4))\n",
    "plt.title(\"MNIST Data\")\n",
    "plt.axis(\"off\")\n",
    "for i in range(0, 10):\n",
    "    plt.subplot(2, 5, i + 1)\n",
    "    plt.imshow(zero_to_nine[i][0])\n",
    "    plt.axis(\"off\")\n",
    "    plt.tight_layout\n",
    "    \n",
    "plt.show()"
   ]
  },
  {
   "cell_type": "code",
   "execution_count": null,
   "id": "857a67ab",
   "metadata": {},
   "outputs": [
    {
     "data": {
      "text/plain": [
       "(torch.Size([60000]), torch.Size([60000, 784]))"
      ]
     },
     "execution_count": 7,
     "metadata": {},
     "output_type": "execute_result"
    }
   ],
   "source": [
    "inputs = data.targets # X: integers\n",
    "targets = data.data.reshape(60000, 28*28) # Y: image matrices\n",
    "\n",
    "inputs.shape, targets.shape"
   ]
  },
  {
   "cell_type": "code",
   "execution_count": 8,
   "id": "85780589",
   "metadata": {},
   "outputs": [],
   "source": [
    "targets = targets.float() / targets[0].max()"
   ]
  },
  {
   "cell_type": "code",
   "execution_count": 9,
   "id": "6bca0735",
   "metadata": {},
   "outputs": [],
   "source": [
    "class NN(nn.Module):\n",
    "    def __init__(self):\n",
    "        super().__init__()\n",
    "        self.linear = nn.Sequential(\n",
    "            nn.Linear(10, 512),\n",
    "            nn.ReLU(),\n",
    "            nn.Linear(512, 1024),\n",
    "            nn.ReLU(),\n",
    "            nn.Linear(1024, 28*28),\n",
    "        )\n",
    "    def forward(self, x):\n",
    "        logits = self.linear(x)\n",
    "        return logits\n",
    "\n",
    "d2i = NN().to(device)"
   ]
  },
  {
   "cell_type": "code",
   "execution_count": 10,
   "id": "179ab35a",
   "metadata": {},
   "outputs": [],
   "source": [
    "criterion = nn.BCEWithLogitsLoss()\n",
    "optimizer = optim.Adam(d2i.parameters(), lr = 0.001)"
   ]
  },
  {
   "cell_type": "code",
   "execution_count": 11,
   "id": "9ef8f34f",
   "metadata": {},
   "outputs": [],
   "source": [
    "def one_hot_encode(labels, num_classes = 10):\n",
    "    return torch.nn.functional.one_hot(labels, num_classes = num_classes).float()"
   ]
  },
  {
   "cell_type": "code",
   "execution_count": 12,
   "id": "f521a489",
   "metadata": {},
   "outputs": [
    {
     "name": "stdout",
     "output_type": "stream",
     "text": [
      "Epoch [1 / 5], Loss: 0.2263\n",
      "Epoch [2 / 5], Loss: 0.2239\n",
      "Epoch [3 / 5], Loss: 0.2231\n",
      "Epoch [4 / 5], Loss: 0.2228\n",
      "Epoch [5 / 5], Loss: 0.2229\n"
     ]
    }
   ],
   "source": [
    "batch_size = 64\n",
    "epochs = 5\n",
    "num_samples = 60000\n",
    "\n",
    "for epoch in range(epochs):\n",
    "\n",
    "    for i in range(0, num_samples, batch_size):\n",
    "\n",
    "        x_batch = inputs[i:i + batch_size]\n",
    "        x_batch = one_hot_encode(x_batch).to(device)\n",
    "        y_batch = targets[i:i + batch_size].to(device)\n",
    "\n",
    "        logits = d2i(x_batch)\n",
    "        loss = criterion(logits, y_batch)\n",
    "\n",
    "        optimizer.zero_grad()\n",
    "        loss.backward()\n",
    "        optimizer.step()\n",
    "    \n",
    "    print(f\"Epoch [{epoch + 1} / {epochs}], Loss: {loss.item():.4f}\")"
   ]
  },
  {
   "cell_type": "markdown",
   "id": "9c4c20e1",
   "metadata": {},
   "source": [
    "#### _NUMBER GENERATION_"
   ]
  },
  {
   "cell_type": "code",
   "execution_count": 17,
   "id": "2e2df72f",
   "metadata": {},
   "outputs": [
    {
     "data": {
      "image/png": "[encoded data removed]",
      "text/plain": [
       "<Figure size 300x300 with 1 Axes>"
      ]
     },
     "metadata": {},
     "output_type": "display_data"
    }
   ],
   "source": [
    "input = 2\n",
    "digit = one_hot_encode(torch.tensor([input])).to(device)\n",
    "with torch.no_grad():\n",
    "    logits = d2i(digit)\n",
    "    target = torch.sigmoid(logits).view(28, 28).cpu()\n",
    "\n",
    "plt.figure(figsize = (3, 3))\n",
    "plt.imshow(target)\n",
    "plt.title(f\"Generated Image of {input}\", fontsize = 12)\n",
    "plt.axis(\"off\")\n",
    "plt.show()"
   ]
  }
 ],
 "metadata": {
  "kernelspec": {
   "display_name": "dl-lab",
   "language": "python",
   "name": "python3"
  },
  "language_info": {
   "codemirror_mode": {
    "name": "ipython",
    "version": 3
   },
   "file_extension": ".py",
   "mimetype": "text/x-python",
   "name": "python",
   "nbconvert_exporter": "python",
   "pygments_lexer": "ipython3",
   "version": "3.12.11"
  }
 },
 "nbformat": 4,
 "nbformat_minor": 5
}
