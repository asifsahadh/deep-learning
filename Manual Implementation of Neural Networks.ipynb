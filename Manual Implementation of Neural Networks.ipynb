{
 "cells": [
  {
   "cell_type": "markdown",
   "id": "e1d22c5e",
   "metadata": {},
   "source": [
    "### **Manual Implementation of Neural Networks**"
   ]
  },
  {
   "cell_type": "markdown",
   "id": "f09510f9",
   "metadata": {},
   "source": [
    "#### Import libraries"
   ]
  },
  {
   "cell_type": "code",
   "execution_count": null,
   "id": "0a4a9a7d",
   "metadata": {},
   "outputs": [],
   "source": [
    "import pandas as pd\n",
    "import numpy as np\n",
    "import matplotlib.pyplot as plt"
   ]
  },
  {
   "cell_type": "markdown",
   "id": "b690364a",
   "metadata": {},
   "source": [
    "#### Data handling"
   ]
  },
  {
   "cell_type": "code",
   "execution_count": null,
   "id": "87f0f823",
   "metadata": {},
   "outputs": [
    {
     "data": {
      "text/html": [
       "<div>\n",
       "<style scoped>\n",
       "    .dataframe tbody tr th:only-of-type {\n",
       "        vertical-align: middle;\n",
       "    }\n",
       "\n",
       "    .dataframe tbody tr th {\n",
       "        vertical-align: top;\n",
       "    }\n",
       "\n",
       "    .dataframe thead th {\n",
       "        text-align: right;\n",
       "    }\n",
       "</style>\n",
       "<table border=\"1\" class=\"dataframe\">\n",
       "  <thead>\n",
       "    <tr style=\"text-align: right;\">\n",
       "      <th></th>\n",
       "      <th>gender</th>\n",
       "      <th>age</th>\n",
       "      <th>hypertension</th>\n",
       "      <th>heart_disease</th>\n",
       "      <th>smoking_history</th>\n",
       "      <th>bmi</th>\n",
       "      <th>HbA1c_level</th>\n",
       "      <th>blood_glucose_level</th>\n",
       "      <th>diabetes</th>\n",
       "    </tr>\n",
       "  </thead>\n",
       "  <tbody>\n",
       "    <tr>\n",
       "      <th>0</th>\n",
       "      <td>0</td>\n",
       "      <td>80.0</td>\n",
       "      <td>0</td>\n",
       "      <td>1</td>\n",
       "      <td>4</td>\n",
       "      <td>25.19</td>\n",
       "      <td>6.6</td>\n",
       "      <td>140</td>\n",
       "      <td>0</td>\n",
       "    </tr>\n",
       "    <tr>\n",
       "      <th>1</th>\n",
       "      <td>0</td>\n",
       "      <td>54.0</td>\n",
       "      <td>0</td>\n",
       "      <td>0</td>\n",
       "      <td>0</td>\n",
       "      <td>27.32</td>\n",
       "      <td>6.6</td>\n",
       "      <td>80</td>\n",
       "      <td>0</td>\n",
       "    </tr>\n",
       "    <tr>\n",
       "      <th>2</th>\n",
       "      <td>1</td>\n",
       "      <td>28.0</td>\n",
       "      <td>0</td>\n",
       "      <td>0</td>\n",
       "      <td>4</td>\n",
       "      <td>27.32</td>\n",
       "      <td>5.7</td>\n",
       "      <td>158</td>\n",
       "      <td>0</td>\n",
       "    </tr>\n",
       "    <tr>\n",
       "      <th>3</th>\n",
       "      <td>0</td>\n",
       "      <td>36.0</td>\n",
       "      <td>0</td>\n",
       "      <td>0</td>\n",
       "      <td>1</td>\n",
       "      <td>23.45</td>\n",
       "      <td>5.0</td>\n",
       "      <td>155</td>\n",
       "      <td>0</td>\n",
       "    </tr>\n",
       "    <tr>\n",
       "      <th>4</th>\n",
       "      <td>1</td>\n",
       "      <td>76.0</td>\n",
       "      <td>1</td>\n",
       "      <td>1</td>\n",
       "      <td>1</td>\n",
       "      <td>20.14</td>\n",
       "      <td>4.8</td>\n",
       "      <td>155</td>\n",
       "      <td>0</td>\n",
       "    </tr>\n",
       "  </tbody>\n",
       "</table>\n",
       "</div>"
      ],
      "text/plain": [
       "   gender   age  hypertension  heart_disease  smoking_history    bmi  \\\n",
       "0       0  80.0             0              1                4  25.19   \n",
       "1       0  54.0             0              0                0  27.32   \n",
       "2       1  28.0             0              0                4  27.32   \n",
       "3       0  36.0             0              0                1  23.45   \n",
       "4       1  76.0             1              1                1  20.14   \n",
       "\n",
       "   HbA1c_level  blood_glucose_level  diabetes  \n",
       "0          6.6                  140         0  \n",
       "1          6.6                   80         0  \n",
       "2          5.7                  158         0  \n",
       "3          5.0                  155         0  \n",
       "4          4.8                  155         0  "
      ]
     },
     "execution_count": 2,
     "metadata": {},
     "output_type": "execute_result"
    }
   ],
   "source": [
    "df = pd.read_csv('diabetes.csv')\n",
    "df['gender'] = df['gender'].astype('category').cat.codes\n",
    "df['smoking_history'] = df['smoking_history'].astype('category').cat.codes\n",
    "df.head()"
   ]
  },
  {
   "cell_type": "code",
   "execution_count": 5,
   "id": "87027ee9",
   "metadata": {},
   "outputs": [
    {
     "name": "stdout",
     "output_type": "stream",
     "text": [
      "100000\n"
     ]
    }
   ],
   "source": [
    "# check number of samples\n",
    "print(len(df))"
   ]
  },
  {
   "cell_type": "code",
   "execution_count": 6,
   "id": "cd4b719e",
   "metadata": {},
   "outputs": [
    {
     "name": "stdout",
     "output_type": "stream",
     "text": [
      "[0 0 0 ... 0 0 0]\n"
     ]
    }
   ],
   "source": [
    "# get targets and convert to numpy array\n",
    "y = df['diabetes'].to_numpy()\n",
    "print(y)"
   ]
  },
  {
   "cell_type": "code",
   "execution_count": 7,
   "id": "ff2600d2",
   "metadata": {},
   "outputs": [],
   "source": [
    "# apply minmax scaling \n",
    "df = (df - df.mean()) / df.std()"
   ]
  },
  {
   "cell_type": "code",
   "execution_count": 8,
   "id": "111deedf",
   "metadata": {},
   "outputs": [
    {
     "data": {
      "text/html": [
       "<div>\n",
       "<style scoped>\n",
       "    .dataframe tbody tr th:only-of-type {\n",
       "        vertical-align: middle;\n",
       "    }\n",
       "\n",
       "    .dataframe tbody tr th {\n",
       "        vertical-align: top;\n",
       "    }\n",
       "\n",
       "    .dataframe thead th {\n",
       "        text-align: right;\n",
       "    }\n",
       "</style>\n",
       "<table border=\"1\" class=\"dataframe\">\n",
       "  <thead>\n",
       "    <tr style=\"text-align: right;\">\n",
       "      <th></th>\n",
       "      <th>gender</th>\n",
       "      <th>age</th>\n",
       "      <th>hypertension</th>\n",
       "      <th>heart_disease</th>\n",
       "      <th>smoking_history</th>\n",
       "      <th>bmi</th>\n",
       "      <th>HbA1c_level</th>\n",
       "      <th>blood_glucose_level</th>\n",
       "    </tr>\n",
       "  </thead>\n",
       "  <tbody>\n",
       "    <tr>\n",
       "      <th>0</th>\n",
       "      <td>-0.841043</td>\n",
       "      <td>1.692695</td>\n",
       "      <td>-0.284438</td>\n",
       "      <td>4.936354</td>\n",
       "      <td>0.963322</td>\n",
       "      <td>-0.321054</td>\n",
       "      <td>1.001701</td>\n",
       "      <td>0.047704</td>\n",
       "    </tr>\n",
       "    <tr>\n",
       "      <th>1</th>\n",
       "      <td>-0.841043</td>\n",
       "      <td>0.538004</td>\n",
       "      <td>-0.284438</td>\n",
       "      <td>-0.202577</td>\n",
       "      <td>-1.153462</td>\n",
       "      <td>-0.000116</td>\n",
       "      <td>1.001701</td>\n",
       "      <td>-1.426203</td>\n",
       "    </tr>\n",
       "    <tr>\n",
       "      <th>2</th>\n",
       "      <td>1.187228</td>\n",
       "      <td>-0.616688</td>\n",
       "      <td>-0.284438</td>\n",
       "      <td>-0.202577</td>\n",
       "      <td>0.963322</td>\n",
       "      <td>-0.000116</td>\n",
       "      <td>0.161107</td>\n",
       "      <td>0.489876</td>\n",
       "    </tr>\n",
       "    <tr>\n",
       "      <th>3</th>\n",
       "      <td>-0.841043</td>\n",
       "      <td>-0.261398</td>\n",
       "      <td>-0.284438</td>\n",
       "      <td>-0.202577</td>\n",
       "      <td>-0.624266</td>\n",
       "      <td>-0.583229</td>\n",
       "      <td>-0.492688</td>\n",
       "      <td>0.416181</td>\n",
       "    </tr>\n",
       "    <tr>\n",
       "      <th>4</th>\n",
       "      <td>1.187228</td>\n",
       "      <td>1.515050</td>\n",
       "      <td>3.515669</td>\n",
       "      <td>4.936354</td>\n",
       "      <td>-0.624266</td>\n",
       "      <td>-1.081965</td>\n",
       "      <td>-0.679486</td>\n",
       "      <td>0.416181</td>\n",
       "    </tr>\n",
       "  </tbody>\n",
       "</table>\n",
       "</div>"
      ],
      "text/plain": [
       "     gender       age  hypertension  heart_disease  smoking_history       bmi  \\\n",
       "0 -0.841043  1.692695     -0.284438       4.936354         0.963322 -0.321054   \n",
       "1 -0.841043  0.538004     -0.284438      -0.202577        -1.153462 -0.000116   \n",
       "2  1.187228 -0.616688     -0.284438      -0.202577         0.963322 -0.000116   \n",
       "3 -0.841043 -0.261398     -0.284438      -0.202577        -0.624266 -0.583229   \n",
       "4  1.187228  1.515050      3.515669       4.936354        -0.624266 -1.081965   \n",
       "\n",
       "   HbA1c_level  blood_glucose_level  \n",
       "0     1.001701             0.047704  \n",
       "1     1.001701            -1.426203  \n",
       "2     0.161107             0.489876  \n",
       "3    -0.492688             0.416181  \n",
       "4    -0.679486             0.416181  "
      ]
     },
     "execution_count": 8,
     "metadata": {},
     "output_type": "execute_result"
    }
   ],
   "source": [
    "# get features\n",
    "X = df.drop(columns = 'diabetes')\n",
    "X.head()"
   ]
  },
  {
   "cell_type": "code",
   "execution_count": 9,
   "id": "951e5369",
   "metadata": {},
   "outputs": [
    {
     "name": "stdout",
     "output_type": "stream",
     "text": [
      "Shape of Feature Set: (100000, 8)\n",
      "\n",
      "The Data Matrix:\n",
      "[[-8.41042539e-01  1.69269508e+00 -2.84438025e-01 ... -3.21054186e-01\n",
      "   1.00170072e+00  4.77039773e-02]\n",
      " [-8.41042539e-01  5.38003737e-01 -2.84438025e-01 ... -1.15583100e-04\n",
      "   1.00170072e+00 -1.42620286e+00]\n",
      " [ 1.18722770e+00 -6.16687603e-01 -2.84438025e-01 ... -1.15583100e-04\n",
      "   1.61107216e-01  4.89876028e-01]\n",
      " ...\n",
      " [ 1.18722770e+00  1.07093820e+00 -2.84438025e-01 ...  7.67288712e-02\n",
      "   1.61107216e-01  4.16180686e-01]\n",
      " [-8.41042539e-01 -7.94332424e-01 -2.84438025e-01 ...  1.22035516e+00\n",
      "  -1.42668050e+00 -9.34900580e-01]\n",
      " [-8.41042539e-01  6.71237353e-01 -2.84438025e-01 ... -7.36918292e-01\n",
      "   1.00170072e+00 -1.18055172e+00]]\n"
     ]
    }
   ],
   "source": [
    "# converting the dataframe into a data matrix\n",
    "X = X.to_numpy()\n",
    "print('Shape of Feature Set:', X.shape)\n",
    "print('\\nThe Data Matrix:')\n",
    "print(X)"
   ]
  },
  {
   "cell_type": "code",
   "execution_count": 10,
   "id": "364b6b4f",
   "metadata": {},
   "outputs": [],
   "source": [
    "# the goal is to build a simple neural network with only one hidden layer of 3 neurons\n",
    "# there will be 8 input neurons, 3 hidden neurons and one output neuron, which is the taregt \n",
    "# so all in all there will be 2 sets of weights: from input to hidden and hidden to output\n",
    "# the hidden layer will have a bias vector and the output will also have a bias vector of shape (1, 1)"
   ]
  },
  {
   "cell_type": "markdown",
   "id": "0acf1be5",
   "metadata": {},
   "source": [
    "#### Initialize weights and biases"
   ]
  },
  {
   "cell_type": "code",
   "execution_count": null,
   "id": "403804b7",
   "metadata": {},
   "outputs": [
    {
     "name": "stdout",
     "output_type": "stream",
     "text": [
      "Weight Matrix One:\n",
      " [[ 0.49671415 -0.1382643   0.64768854  1.52302986 -0.23415337 -0.23413696\n",
      "   1.57921282  0.76743473]\n",
      " [-0.46947439  0.54256004 -0.46341769 -0.46572975  0.24196227 -1.91328024\n",
      "  -1.72491783 -0.56228753]\n",
      " [-1.01283112  0.31424733 -0.90802408 -1.4123037   1.46564877 -0.2257763\n",
      "   0.0675282  -1.42474819]] \n",
      "\n",
      "Bias Vector One: [-0.54438272  0.11092259 -1.15099358] \n",
      "\n",
      "Weight Matrix Two: [[ 0.37569802 -0.60063869 -0.29169375]] \n",
      "\n",
      "Bias Vector Two: [-0.60170661]\n"
     ]
    }
   ],
   "source": [
    "np.random.seed(42)\n",
    "\n",
    "# input to hidden\n",
    "weight_matrix_one = np.random.randn(3, 8) # 8 inputs from X and 3 neurons for the hidden layer\n",
    "bias_vector_one = np.random.randn(3, )\n",
    "\n",
    "# hidden to output\n",
    "weight_matrix_two = np.random.randn(1, 3)\n",
    "bias_vector_two = np.random.randn(1, )\n",
    "\n",
    "print('Weight Matrix One:\\n', weight_matrix_one, '\\n\\nBias Vector One:', bias_vector_one, '\\n\\nWeight Matrix Two:', weight_matrix_two, '\\n\\nBias Vector Two:', bias_vector_two)"
   ]
  },
  {
   "cell_type": "markdown",
   "id": "8cd37647",
   "metadata": {},
   "source": [
    "#### Supporting functions"
   ]
  },
  {
   "cell_type": "code",
   "execution_count": 12,
   "id": "5064481b",
   "metadata": {},
   "outputs": [],
   "source": [
    "# sigmoid activation function\n",
    "def sigmoid(x):\n",
    "    return 1.0 / (1.0 + np.exp(-x)) # the lack of brackets was what's causing the inf problem"
   ]
  },
  {
   "cell_type": "code",
   "execution_count": 17,
   "id": "e8a16ba4",
   "metadata": {},
   "outputs": [],
   "source": [
    "# sigmoid activation function gradient\n",
    "def sigmoid_grad(x):\n",
    "    return x * (1 - x)"
   ]
  },
  {
   "cell_type": "code",
   "execution_count": 13,
   "id": "7e2b800c",
   "metadata": {},
   "outputs": [],
   "source": [
    "# function to calculate the avergae of forward pass across all samples\n",
    "def arr_avg(lst):\n",
    "    sum = 0\n",
    "    for num in lst:\n",
    "        sum += num\n",
    "    return sum / len(lst)"
   ]
  },
  {
   "cell_type": "markdown",
   "id": "f47867c4",
   "metadata": {},
   "source": [
    "#### Sample implementation of forward Pass "
   ]
  },
  {
   "cell_type": "code",
   "execution_count": null,
   "id": "ce1823ba",
   "metadata": {},
   "outputs": [],
   "source": [
    "losses = []\n",
    "y_caps = []\n",
    "\n",
    "for i in range(len(X)):\n",
    "    z1 = np.dot(weight_matrix_one, X[i]) + bias_vector_one\n",
    "    s = sigmoid(z1)\n",
    "    z2 = np.dot(weight_matrix_two, s) + bias_vector_two\n",
    "    y_cap = sigmoid(z2)\n",
    "    y_caps.append(y_cap)\n",
    "    loss = np.power((y[i] - y_cap), 2)\n",
    "    losses.append(loss)"
   ]
  },
  {
   "cell_type": "code",
   "execution_count": 15,
   "id": "dcf7dcc2",
   "metadata": {},
   "outputs": [
    {
     "name": "stdout",
     "output_type": "stream",
     "text": [
      "[0.11021835]\n"
     ]
    }
   ],
   "source": [
    "# get loss value for first iteration\n",
    "final_loss = arr_avg(losses)\n",
    "print(final_loss)"
   ]
  },
  {
   "cell_type": "code",
   "execution_count": 16,
   "id": "9386f3bf",
   "metadata": {},
   "outputs": [],
   "source": [
    "# backpropagation theory\n",
    "# now we need to find partial derivative of the loss w.r.t the wights from hidden to output layer\n",
    "# this is basically, dL/dW2 = dL/dy_cap * dy_cap / dz2 * dz2 / dW2 (using chain rule)\n",
    "# similarly, dL/db2 = dL/dy_cap * dy_cap / dz2 * dz2 / db2\n",
    "# this will be used ot update the weights and biases by a learning rate"
   ]
  },
  {
   "cell_type": "markdown",
   "id": "18fba229",
   "metadata": {},
   "source": [
    "#### Overall implementation of the neural network"
   ]
  },
  {
   "cell_type": "code",
   "execution_count": null,
   "id": "91836303",
   "metadata": {},
   "outputs": [],
   "source": [
    "def my_nn():\n",
    "    losses = []\n",
    "    y_caps = []\n",
    "    hiddens = []\n",
    "    all_loss = []\n",
    "    l_r = 0.001 # learning rate\n",
    "\n",
    "    weight_matrix_one = np.random.randn(32, 8)\n",
    "    bias_vector_one = np.random.randn(32, )\n",
    "\n",
    "    weight_matrix_two = np.random.randn(1, 32)\n",
    "    bias_vector_two = np.random.randn(1, )\n",
    "\n",
    "    for i in range(len(X)):\n",
    "        \n",
    "        # forward pass\n",
    "        z1 = np.dot(weight_matrix_one, X[i]) + bias_vector_one\n",
    "        s = sigmoid(z1)\n",
    "        hiddens.append(s)\n",
    "\n",
    "        z2 = np.dot(weight_matrix_two, s) + bias_vector_two\n",
    "        y_cap = sigmoid(z2)\n",
    "        y_caps.append(y_cap)\n",
    "\n",
    "        loss = np.power((y[i] - y_cap), 2)\n",
    "        losses.append(loss)\n",
    "\n",
    "    # loss calculation\n",
    "    final_loss = arr_avg(losses)\n",
    "    all_loss.append(final_loss)\n",
    "\n",
    "    for i in range(len(X)):\n",
    "        \n",
    "        # backpropagation\n",
    "        dLdy_cap = -2 * (y[i] - y_caps[i])\n",
    "        dy_capdz2 = sigmoid_grad(y_caps[i]) \n",
    "        dz2dW2 = hiddens[i] # this is supposed to be what is inside the hidden layer, not X[i]\n",
    "        dz2db2 = 1  \n",
    "\n",
    "        dLdW2 = dLdy_cap * dy_capdz2 * dz2dW2 # weight matrix two\n",
    "        dLdb2 = dLdy_cap * dy_capdz2 * dz2db2 # bias vector two\n",
    "\n",
    "        dz2dh = weight_matrix_two \n",
    "        dhdz1 = sigmoid_grad(hiddens[i]) \n",
    "        dz1dW1 = X[i] \n",
    "        dz1db1 = 1 \n",
    "\n",
    "        dLdz1 = (dLdy_cap * dy_capdz2 * dz2dh).reshape(-1) * dhdz1 # this set of operations are common between dLdW1 & dLdb1\n",
    "        dLdW1 = np.outer(dLdz1, dz1dW1) # weight matrix one (np.outer basically makes (3,) and (8,) to a (3, 8) matrix)\n",
    "        dLdb1 = dLdz1 * dz1db1 # bias vector one\n",
    "\n",
    "        # updation on the fly (vanila gradient descent)\n",
    "        weight_matrix_two -= l_r * dLdW2\n",
    "        bias_vector_two -= l_r * dLdb2\n",
    "        weight_matrix_one -= l_r * dLdW1\n",
    "        bias_vector_one -= l_r * dLdb1\n",
    "    \n",
    "    return weight_matrix_one, bias_vector_one, weight_matrix_two, bias_vector_two, final_loss"
   ]
  },
  {
   "cell_type": "code",
   "execution_count": 19,
   "id": "d6c93541",
   "metadata": {},
   "outputs": [],
   "source": [
    "# note: the gradient weight matrix and the actual weight matrix should always be the same shape"
   ]
  },
  {
   "cell_type": "markdown",
   "id": "af254831",
   "metadata": {},
   "source": [
    "#### Training time!"
   ]
  },
  {
   "cell_type": "code",
   "execution_count": null,
   "id": "26d35794",
   "metadata": {},
   "outputs": [
    {
     "name": "stdout",
     "output_type": "stream",
     "text": [
      "Loss at epoch 0: [0.16987528]\n",
      "Loss at epoch 1: [0.2134959]\n",
      "Loss at epoch 2: [0.1437719]\n",
      "Loss at epoch 3: [0.58515831]\n",
      "Loss at epoch 4: [0.80193087]\n",
      "Loss at epoch 5: [0.30903531]\n",
      "Loss at epoch 6: [0.08316111]\n",
      "Loss at epoch 7: [0.81544813]\n",
      "Loss at epoch 8: [0.86257742]\n",
      "Loss at epoch 9: [0.6857976]\n",
      "Loss at epoch 10: [0.6772159]\n"
     ]
    }
   ],
   "source": [
    "epochs = 10\n",
    "losses = []\n",
    "for i in range(epochs + 1):\n",
    "    W1, b1, W2, b2, loss = my_nn()\n",
    "    losses.append(loss)\n",
    "    print('Loss at epoch {}: {}'.format(i, loss))"
   ]
  },
  {
   "cell_type": "markdown",
   "id": "85fe29cc",
   "metadata": {},
   "source": [
    "#### Loss plot"
   ]
  },
  {
   "cell_type": "code",
   "execution_count": 21,
   "id": "60b74a94",
   "metadata": {},
   "outputs": [
    {
     "data": {
      "image/png": "[encoded data removed]",
      "text/plain": [
       "<Figure size 640x480 with 1 Axes>"
      ]
     },
     "metadata": {},
     "output_type": "display_data"
    }
   ],
   "source": [
    "plt.plot(losses)\n",
    "plt.xlabel('Epoch')\n",
    "plt.ylabel('Loss')\n",
    "plt.title('Neural Network Loss Plot')\n",
    "plt.show()"
   ]
  }
 ],
 "metadata": {
  "kernelspec": {
   "display_name": "py310",
   "language": "python",
   "name": "python3"
  },
  "language_info": {
   "codemirror_mode": {
    "name": "ipython",
    "version": 3
   },
   "file_extension": ".py",
   "mimetype": "text/x-python",
   "name": "python",
   "nbconvert_exporter": "python",
   "pygments_lexer": "ipython3",
   "version": "3.10.15"
  }
 },
 "nbformat": 4,
 "nbformat_minor": 5
}
